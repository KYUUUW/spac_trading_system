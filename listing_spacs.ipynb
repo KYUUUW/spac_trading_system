{
 "metadata": {
  "language_info": {
   "codemirror_mode": {
    "name": "ipython",
    "version": 3
   },
   "file_extension": ".py",
   "mimetype": "text/x-python",
   "name": "python",
   "nbconvert_exporter": "python",
   "pygments_lexer": "ipython3",
   "version": "3.8.5-final"
  },
  "orig_nbformat": 2,
  "kernelspec": {
   "name": "python385jvsc74a57bd0e134e05457d34029b6460cd73bbf1ed73f339b5b6d98c95be70b69eba114fe95",
   "display_name": "Python 3.8.5 64-bit ('anaconda3': conda)"
  }
 },
 "nbformat": 4,
 "nbformat_minor": 2,
 "cells": [
  {
   "cell_type": "code",
   "execution_count": null,
   "metadata": {},
   "outputs": [],
   "source": [
    "import pandas as pd\n",
    "\n",
    "df = pd.read_html('./data/spac_list.html')[0]\n",
    "df.to_csv('./data/spac_list.csv')"
   ]
  },
  {
   "source": [
    "## yfinance 로 합병 전 SPAC 의 주가 데이터를 불러올 수 있는지 본다.\n",
    "\n",
    "합병 전 ticker 는 보통 spac 스폰서 회사에서 계속 반복해서 티커명을 사용하기 때문에 데이터를 불러올 수 없다. 합병 후 기업의 티커명으로 당시 주가를 찾아야 한다.\n",
    "\n",
    "yfinance 기준으로 합병 이전 데이터가 있는 회사도 있고 없는 회사도 있다.\n",
    "\n",
    "예시로 `MGY` 종목은 합병 이전 주가가 차트에 반영되어있고, `LAZY` 는 그렇지 않다."
   ],
   "cell_type": "markdown",
   "metadata": {}
  },
  {
   "source": [
    "feasible_spac = 'MGY'\n",
    "unfeasible_spac = 'LAZY'\n",
    "\n",
    "import yfinance as yf\n",
    "\n",
    "mgy = yf.Ticker(feasible_spac)\n",
    "lazy = yf.Ticker(unfeasible_spac)\n",
    "\n",
    "\n",
    "mgy_hist = mgy.history(start=\"2017-01-01\", end=\"2018-07-31\")\n",
    "lazy_hist = lazy.history(start=\"2017-01-01\", end=\"2018-03-15\") # no data\n",
    "\n",
    "mgy_hist"
   ],
   "cell_type": "code",
   "metadata": {},
   "execution_count": 15,
   "outputs": [
    {
     "output_type": "execute_result",
     "data": {
      "text/plain": [
       "             Open   High     Low  Close   Volume  Dividends  Stock Splits\n",
       "Date                                                                     \n",
       "2017-06-29  10.00  10.00  10.000  10.00     1100          0             0\n",
       "2017-06-30  10.25  10.25  10.050  10.06     3300          0             0\n",
       "2017-07-03  10.06  10.06  10.060  10.06        0          0             0\n",
       "2017-07-05  10.06  10.06  10.060  10.06        0          0             0\n",
       "2017-07-06  10.06  10.06  10.060  10.06        0          0             0\n",
       "...           ...    ...     ...    ...      ...        ...           ...\n",
       "2018-07-24  12.64  12.85  12.330  12.78  1967700          0             0\n",
       "2018-07-25  12.99  13.00  12.680  12.76  1386900          0             0\n",
       "2018-07-26  12.71  12.87  12.355  12.39   907800          0             0\n",
       "2018-07-27  12.46  12.64  11.920  12.18   738100          0             0\n",
       "2018-07-30  12.29  12.80  12.250  12.26   405700          0             0\n",
       "\n",
       "[273 rows x 7 columns]"
      ],
      "text/html": "<div>\n<style scoped>\n    .dataframe tbody tr th:only-of-type {\n        vertical-align: middle;\n    }\n\n    .dataframe tbody tr th {\n        vertical-align: top;\n    }\n\n    .dataframe thead th {\n        text-align: right;\n    }\n</style>\n<table border=\"1\" class=\"dataframe\">\n  <thead>\n    <tr style=\"text-align: right;\">\n      <th></th>\n      <th>Open</th>\n      <th>High</th>\n      <th>Low</th>\n      <th>Close</th>\n      <th>Volume</th>\n      <th>Dividends</th>\n      <th>Stock Splits</th>\n    </tr>\n    <tr>\n      <th>Date</th>\n      <th></th>\n      <th></th>\n      <th></th>\n      <th></th>\n      <th></th>\n      <th></th>\n      <th></th>\n    </tr>\n  </thead>\n  <tbody>\n    <tr>\n      <th>2017-06-29</th>\n      <td>10.00</td>\n      <td>10.00</td>\n      <td>10.000</td>\n      <td>10.00</td>\n      <td>1100</td>\n      <td>0</td>\n      <td>0</td>\n    </tr>\n    <tr>\n      <th>2017-06-30</th>\n      <td>10.25</td>\n      <td>10.25</td>\n      <td>10.050</td>\n      <td>10.06</td>\n      <td>3300</td>\n      <td>0</td>\n      <td>0</td>\n    </tr>\n    <tr>\n      <th>2017-07-03</th>\n      <td>10.06</td>\n      <td>10.06</td>\n      <td>10.060</td>\n      <td>10.06</td>\n      <td>0</td>\n      <td>0</td>\n      <td>0</td>\n    </tr>\n    <tr>\n      <th>2017-07-05</th>\n      <td>10.06</td>\n      <td>10.06</td>\n      <td>10.060</td>\n      <td>10.06</td>\n      <td>0</td>\n      <td>0</td>\n      <td>0</td>\n    </tr>\n    <tr>\n      <th>2017-07-06</th>\n      <td>10.06</td>\n      <td>10.06</td>\n      <td>10.060</td>\n      <td>10.06</td>\n      <td>0</td>\n      <td>0</td>\n      <td>0</td>\n    </tr>\n    <tr>\n      <th>...</th>\n      <td>...</td>\n      <td>...</td>\n      <td>...</td>\n      <td>...</td>\n      <td>...</td>\n      <td>...</td>\n      <td>...</td>\n    </tr>\n    <tr>\n      <th>2018-07-24</th>\n      <td>12.64</td>\n      <td>12.85</td>\n      <td>12.330</td>\n      <td>12.78</td>\n      <td>1967700</td>\n      <td>0</td>\n      <td>0</td>\n    </tr>\n    <tr>\n      <th>2018-07-25</th>\n      <td>12.99</td>\n      <td>13.00</td>\n      <td>12.680</td>\n      <td>12.76</td>\n      <td>1386900</td>\n      <td>0</td>\n      <td>0</td>\n    </tr>\n    <tr>\n      <th>2018-07-26</th>\n      <td>12.71</td>\n      <td>12.87</td>\n      <td>12.355</td>\n      <td>12.39</td>\n      <td>907800</td>\n      <td>0</td>\n      <td>0</td>\n    </tr>\n    <tr>\n      <th>2018-07-27</th>\n      <td>12.46</td>\n      <td>12.64</td>\n      <td>11.920</td>\n      <td>12.18</td>\n      <td>738100</td>\n      <td>0</td>\n      <td>0</td>\n    </tr>\n    <tr>\n      <th>2018-07-30</th>\n      <td>12.29</td>\n      <td>12.80</td>\n      <td>12.250</td>\n      <td>12.26</td>\n      <td>405700</td>\n      <td>0</td>\n      <td>0</td>\n    </tr>\n  </tbody>\n</table>\n<p>273 rows × 7 columns</p>\n</div>"
     },
     "metadata": {},
     "execution_count": 15
    }
   ]
  },
  {
   "cell_type": "code",
   "execution_count": null,
   "metadata": {},
   "outputs": [],
   "source": []
  }
 ]
}