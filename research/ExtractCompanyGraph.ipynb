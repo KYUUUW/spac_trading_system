{
 "cells": [
  {
   "cell_type": "markdown",
   "metadata": {
    "collapsed": true,
    "pycharm": {
     "name": "#%% md\n"
    }
   },
   "source": [
    "# Watch Company List\n",
    "\n",
    "To get company share price rising point,\n",
    "shape of price movement must be checked\n",
    "\n",
    "1. Get tickers list and store it in a list\n",
    "2. Get one \"ohlc + v\" data of a company .\n",
    "3. Make Bollinger Band series\n",
    "4. Mark bollinger band breaking point\n",
    "5. Draw graph\n",
    "6. Save as image"
   ]
  },
  {
   "cell_type": "code",
   "execution_count": 1,
   "outputs": [
    {
     "data": {
      "text/plain": "0      ASTS\n1      INVZ\n2       FOA\n3      PSFE\n4      ARVL\n       ... \n146     APP\n147     GLG\n148     JAZ\n149    JMBA\n150    NHRX\nName: Post-SPAC Ticker Symbol, Length: 151, dtype: object"
     },
     "execution_count": 1,
     "metadata": {},
     "output_type": "execute_result"
    }
   ],
   "source": [
    "from src.CompanyImporter import import_all_company_tickers\n",
    "tickers = import_all_company_tickers()\n",
    "\n",
    "tickers.pop(tickers.size - 1) # remove last null data\n",
    "tickers"
   ],
   "metadata": {
    "collapsed": false,
    "pycharm": {
     "name": "#%%\n"
    }
   }
  },
  {
   "cell_type": "code",
   "execution_count": 2,
   "outputs": [
    {
     "data": {
      "text/plain": "0"
     },
     "execution_count": 2,
     "metadata": {},
     "output_type": "execute_result"
    }
   ],
   "source": [
    "# Price data omit some prices before merge prices\n",
    "from src.PriceImporter import get_prices\n",
    "\n",
    "test_price = get_prices('APP')\n",
    "test_price.size\n"
   ],
   "metadata": {
    "collapsed": false,
    "pycharm": {
     "name": "#%%\n"
    }
   }
  },
  {
   "cell_type": "code",
   "execution_count": 3,
   "outputs": [
    {
     "name": "stdout",
     "output_type": "stream",
     "text": [
      "dict_keys(['ASTS', 'INVZ', 'FOA', 'PSFE', 'ARVL', 'NVVE', 'PCT', 'AEVA', 'OUST', 'VIEW', 'CHPT', 'BFLY', 'NUVB', 'PLBY', 'MILE', 'GMTX', 'ETWO', 'ADN', 'APPH', 'UWMC', 'LOTZ', 'HIMS', 'BTRS', 'CLOV', 'LSEA', 'BMTX', 'CLNN', 'RMO', 'DNMR', 'GNOG', 'RSI', 'VINC', 'PRCH', 'ARKO', 'ASLE', 'XL', 'GOEV', 'OPEN', 'BFI', 'SKLZ', 'RVPH', 'DM', 'LAZR', 'QS', 'UK', 'MP', 'GCMG', 'EOSE', 'TRIT', 'ATNF', 'TLMD', 'FSR', 'ADV', 'CERE', 'RIDE', 'PAYA', 'TTCF', 'CURI', 'SFT', 'MPLN', 'HYLN', 'EQOS', 'VLDR', 'GB', 'UTZ', 'HPK', 'DMS', 'IMTX', 'HOFV', 'FREE', 'LGHL', 'LPRO', 'NKLA', 'HYMC', 'SJ', 'DKNG', 'AVCT', 'IGIC', 'BWMX', 'GDYN', 'METX', 'ATCX', 'ALTG', 'GSMG', 'PAE', 'VRT', 'VVNT', 'BROG', 'IMVT', 'NFH', 'KLR', 'ACEL', 'AHCO', 'PHGE', 'SPCE', 'DMTK', 'AESE', 'CTOS', 'RPAY', 'KERN', 'XYNO', 'CLVT', 'KXIN', 'OSW', 'TH', 'BIOX', 'PACK', 'VRRM', 'FLMN', 'MGY', 'IMXI', 'CVON'])\n",
      "['LBPS', 'CLVR', 'HTOO', 'ID', 'KLDI', 'BRMK', 'SONG', 'HUNTF', 'PECK', 'GTYH', 'AGLY', 'WTRH', 'NRCG', 'LAZY', 'AMR', 'PRPL', 'FG', 'WSC', 'SMPL', 'CISN', 'DSKE', 'TWNK', 'CDEV', 'CCN', 'LIND', 'VDTH', 'BLBD', 'TGLS', 'GEENQ', 'BKW', 'SUMR', 'TWO', 'NES', 'GSL', 'APP', 'GLG', 'JAZ', 'JMBA', 'NHRX']\n"
     ]
    }
   ],
   "source": [
    "# Price data omit some before merge so remain only proper data\n",
    "\n",
    "all_companies_prices = {}\n",
    "omitted_companies = []\n",
    "for ticker in tickers:\n",
    "    prices = get_prices(ticker)\n",
    "\n",
    "    if prices.size > 0:\n",
    "        all_companies_prices[ticker] = prices\n",
    "    else:\n",
    "        omitted_companies.append(ticker)\n",
    "\n",
    "print(all_companies_prices.keys())\n",
    "print(omitted_companies)"
   ],
   "metadata": {
    "collapsed": false,
    "pycharm": {
     "name": "#%%\n"
    }
   }
  },
  {
   "cell_type": "markdown",
   "source": [
    "## Result of analysis\n",
    "\n",
    "In 151 companies the 39 companies are omitted in Yahoo Finance data.\n",
    "So the analysis will be conducted for 112 companies.\n",
    "\n",
    "The list of companies possible to get prices is saved in `data/avaliable_companies.json`\n",
    "\n",
    "## draw Bollinger Band\n",
    "\n",
    "Before the implementation of graph drawing module,\n",
    "test operation of Graph drawer"
   ],
   "metadata": {
    "collapsed": false,
    "pycharm": {
     "name": "#%% md\n"
    }
   }
  },
  {
   "cell_type": "code",
   "execution_count": 24,
   "outputs": [
    {
     "data": {
      "text/plain": "     code        date   open   high    low  close   volume     MA20    stddev  \\\n98   OUST  2021-03-04  11.86  11.99  10.55  11.38  2387400  13.9355  1.101169   \n99   OUST  2021-03-05  11.20  12.25  10.11  12.03  1947700  13.8380  1.180493   \n100  OUST  2021-03-08  11.99  12.12  10.31  10.47  2171200  13.6520  1.395582   \n101  OUST  2021-03-09  10.69  11.19  10.62  10.70   881000  13.4860  1.539533   \n102  OUST  2021-03-10  10.70  10.85  10.08  10.35  1721100  13.2380  1.627244   \n\n         upper      lower        PB  \n98   16.137838  11.733162 -0.080179  \n99   16.198987  11.477013  0.117109  \n100  16.443164  10.860836 -0.070013  \n101  16.565066  10.406934  0.047590  \n102  16.492488   9.983513  0.056305  ",
      "text/html": "<div>\n<style scoped>\n    .dataframe tbody tr th:only-of-type {\n        vertical-align: middle;\n    }\n\n    .dataframe tbody tr th {\n        vertical-align: top;\n    }\n\n    .dataframe thead th {\n        text-align: right;\n    }\n</style>\n<table border=\"1\" class=\"dataframe\">\n  <thead>\n    <tr style=\"text-align: right;\">\n      <th></th>\n      <th>code</th>\n      <th>date</th>\n      <th>open</th>\n      <th>high</th>\n      <th>low</th>\n      <th>close</th>\n      <th>volume</th>\n      <th>MA20</th>\n      <th>stddev</th>\n      <th>upper</th>\n      <th>lower</th>\n      <th>PB</th>\n    </tr>\n  </thead>\n  <tbody>\n    <tr>\n      <th>98</th>\n      <td>OUST</td>\n      <td>2021-03-04</td>\n      <td>11.86</td>\n      <td>11.99</td>\n      <td>10.55</td>\n      <td>11.38</td>\n      <td>2387400</td>\n      <td>13.9355</td>\n      <td>1.101169</td>\n      <td>16.137838</td>\n      <td>11.733162</td>\n      <td>-0.080179</td>\n    </tr>\n    <tr>\n      <th>99</th>\n      <td>OUST</td>\n      <td>2021-03-05</td>\n      <td>11.20</td>\n      <td>12.25</td>\n      <td>10.11</td>\n      <td>12.03</td>\n      <td>1947700</td>\n      <td>13.8380</td>\n      <td>1.180493</td>\n      <td>16.198987</td>\n      <td>11.477013</td>\n      <td>0.117109</td>\n    </tr>\n    <tr>\n      <th>100</th>\n      <td>OUST</td>\n      <td>2021-03-08</td>\n      <td>11.99</td>\n      <td>12.12</td>\n      <td>10.31</td>\n      <td>10.47</td>\n      <td>2171200</td>\n      <td>13.6520</td>\n      <td>1.395582</td>\n      <td>16.443164</td>\n      <td>10.860836</td>\n      <td>-0.070013</td>\n    </tr>\n    <tr>\n      <th>101</th>\n      <td>OUST</td>\n      <td>2021-03-09</td>\n      <td>10.69</td>\n      <td>11.19</td>\n      <td>10.62</td>\n      <td>10.70</td>\n      <td>881000</td>\n      <td>13.4860</td>\n      <td>1.539533</td>\n      <td>16.565066</td>\n      <td>10.406934</td>\n      <td>0.047590</td>\n    </tr>\n    <tr>\n      <th>102</th>\n      <td>OUST</td>\n      <td>2021-03-10</td>\n      <td>10.70</td>\n      <td>10.85</td>\n      <td>10.08</td>\n      <td>10.35</td>\n      <td>1721100</td>\n      <td>13.2380</td>\n      <td>1.627244</td>\n      <td>16.492488</td>\n      <td>9.983513</td>\n      <td>0.056305</td>\n    </tr>\n  </tbody>\n</table>\n</div>"
     },
     "execution_count": 24,
     "metadata": {},
     "output_type": "execute_result"
    }
   ],
   "source": [
    "company_ticker = 'OUST'\n",
    "\n",
    "df = get_prices(company_ticker)\n",
    "df['MA20'] = df['close'].rolling(window=20).mean()\n",
    "\n",
    "df.tail()"
   ],
   "metadata": {
    "collapsed": false,
    "pycharm": {
     "name": "#%%\n"
    }
   }
  },
  {
   "cell_type": "code",
   "execution_count": 37,
   "outputs": [
    {
     "data": {
      "text/plain": "<Figure size 648x576 with 2 Axes>",
      "image/png": "[encoded data removed]"
     },
     "metadata": {
      "needs_background": "light"
     },
     "output_type": "display_data"
    }
   ],
   "source": [
    "# Test drawing Bollinger Band\n",
    "import matplotlib.pyplot as plt\n",
    "\n",
    "plt.figure(figsize=(9, 8))\n",
    "plt.subplot(2,1,1)\n",
    "plt.plot(df['date'], df['close'], 'b', label='Close')\n",
    "plt.plot(df['date'], df['MA20'], 'k--', label='MA20')\n",
    "plt.legend('best')\n",
    "\n",
    "plt.subplot(2,1,2)\n",
    "plt.bar(df['date'], df['volume'])\n",
    "plt.title(f'{company_ticker} Pirce History')\n",
    "\n",
    "plt.grid(True)\n",
    "plt.show()"
   ],
   "metadata": {
    "collapsed": false,
    "pycharm": {
     "name": "#%%\n"
    }
   }
  },
  {
   "cell_type": "code",
   "execution_count": 54,
   "outputs": [],
   "source": [
    "# Make function to draw\n",
    "\n",
    "def save_price_volume_movement_figure_img(history, company, file_path):\n",
    "    df = history\n",
    "    df['MA20'] = df['close'].rolling(window=20).mean()\n",
    "\n",
    "    plt.figure(figsize=(9, 8))\n",
    "    plt.subplot(2,1,1)\n",
    "    plt.plot(df['date'], df['close'], 'b', label='Close')\n",
    "    plt.plot(df['date'], df['MA20'], 'k--', label='MA20')\n",
    "    plt.legend('best')\n",
    "\n",
    "    plt.subplot(2,1,2)\n",
    "    plt.bar(df['date'], df['volume'])\n",
    "    plt.title(f'{company} Pirce History')\n",
    "\n",
    "    plt.grid(True)\n",
    "    plt.savefig(file_path)\n",
    "    plt.close()"
   ],
   "metadata": {
    "collapsed": false,
    "pycharm": {
     "name": "#%%\n"
    }
   }
  },
  {
   "cell_type": "code",
   "source": [
    "# extract to image\n",
    "\n",
    "for ticker in all_companies_prices:\n",
    "    price_history = get_prices(ticker)\n",
    "    ipo_date = price_history.date[0]\n",
    "    save_path = f'../data/figures/[{ipo_date}]{ticker}.jpg'\n",
    "    save_price_volume_movement_figure_img(price_history, ticker, save_path)\n"
   ],
   "metadata": {
    "collapsed": false,
    "pycharm": {
     "name": "#%%\n"
    }
   },
   "execution_count": 55,
   "outputs": []
  },
  {
   "cell_type": "markdown",
   "source": [
    "\n"
   ],
   "metadata": {
    "collapsed": false,
    "pycharm": {
     "name": "#%% md\n"
    }
   }
  }
 ],
 "metadata": {
  "kernelspec": {
   "display_name": "Python 3",
   "language": "python",
   "name": "python3"
  },
  "language_info": {
   "codemirror_mode": {
    "name": "ipython",
    "version": 2
   },
   "file_extension": ".py",
   "mimetype": "text/x-python",
   "name": "python",
   "nbconvert_exporter": "python",
   "pygments_lexer": "ipython2",
   "version": "2.7.6"
  }
 },
 "nbformat": 4,
 "nbformat_minor": 0
}