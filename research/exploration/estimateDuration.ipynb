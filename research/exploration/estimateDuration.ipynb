{
 "cells": [
  {
   "cell_type": "markdown",
   "source": [
    "## SPAC 급등까지의 주기 계\n",
    "\n",
    "IPO 부터 주가 급등 까지의 평균 기간 계산을 위한 parameter 는 두가지가 있음\n",
    "* 연도별\n",
    "* 급등 기준 threshold\n",
    "\n",
    "### histogram 생성 함수\n",
    "\n",
    "Input\n",
    "* spac_history DataFrame\n",
    "* periods\n",
    "* threshold\n",
    "\n",
    "Output\n",
    "* histogram of duration of IPO to price soaring"
   ],
   "metadata": {
    "collapsed": false
   }
  },
  {
   "cell_type": "code",
   "execution_count": null,
   "outputs": [],
   "source": [
    "import\n",
    "\n",
    "def get_duration(hist, threshold):\n",
    "    \"\"\"\n",
    "    no need to explain\n",
    "    :param hist: DataFrame of ohlcv of one company\n",
    "    :param threshold: 10\n",
    "    :return:\n",
    "    \"\"\"\n",
    "    dpc = hist['Close'] - hist['Close'].hist(1)\n",
    "    dpc[]\n",
    "\n",
    "def test_get_duration():\n",
    "\n",
    "\n"
   ],
   "metadata": {
    "collapsed": false,
    "pycharm": {
     "name": "#%%\n"
    }
   }
  }
 ],
 "metadata": {
  "kernelspec": {
   "display_name": "Python 3",
   "language": "python",
   "name": "python3"
  },
  "language_info": {
   "codemirror_mode": {
    "name": "ipython",
    "version": 2
   },
   "file_extension": ".py",
   "mimetype": "text/x-python",
   "name": "python",
   "nbconvert_exporter": "python",
   "pygments_lexer": "ipython2",
   "version": "2.7.6"
  }
 },
 "nbformat": 4,
 "nbformat_minor": 0
}