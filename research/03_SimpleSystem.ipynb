{
 "cells": [
  {
   "cell_type": "markdown",
   "metadata": {
    "collapsed": true,
    "pycharm": {
     "name": "#%% md\n"
    }
   },
   "source": [
    "# Buying and Selling at Fixed Price\n",
    "\n",
    "1. Find out how may the number of price of companies rose over $11 (can be other threshold)\n",
    "2. Assume the system bought the stock under $10\n",
    "3. Calculate estimated return\n",
    "\n",
    "## Find out price over 11$"
   ]
  },
  {
   "cell_type": "code",
   "execution_count": 29,
   "outputs": [
    {
     "name": "stdout",
     "output_type": "stream",
     "text": [
      "[VLDR]Bought date 2018-10-26\n",
      "[VLDR]Sold date 2020-06-12\n"
     ]
    }
   ],
   "source": [
    "from src.CompanyImporter import import_available_company\n",
    "from src.PriceImporter import get_prices\n",
    "\n",
    "# Test system with one company\n",
    "\n",
    "BUYING_PRICE = 10\n",
    "SELLING_PRICE = 11\n",
    "TEST_COMPANY = 'VLDR'\n",
    "\n",
    "history = get_prices(TEST_COMPANY)\n",
    "\n",
    "sold_date = ''\n",
    "bought_date = ''\n",
    "\n",
    "for price in history.itertuples():\n",
    "    if bought_date == '' and price.low < BUYING_PRICE:\n",
    "        bought_date = price[2]\n",
    "    if sold_date == '' and price.high > SELLING_PRICE:\n",
    "        sold_date = price[2]\n",
    "\n",
    "print(f\"[{TEST_COMPANY}]Bought date {bought_date}\")\n",
    "print(f\"[{TEST_COMPANY}]Sold date {sold_date}\")"
   ],
   "metadata": {
    "collapsed": false,
    "pycharm": {
     "name": "#%%\n"
    }
   }
  },
  {
   "cell_type": "code",
   "execution_count": 35,
   "outputs": [
    {
     "name": "stdout",
     "output_type": "stream",
     "text": [
      "{'status': 'profit', 'bought_date': datetime.date(2020, 10, 9), 'bought_price': 10, 'sold_date': datetime.date(2020, 12, 22), 'sold_price': 11, 'time_delta': datetime.timedelta(days=74)}\n",
      "{'status': 'no_profit', 'bought_date': datetime.date(2018, 3, 22), 'bought_price': 10, 'sold_date': datetime.date(2019, 3, 1), 'sold_price': 10, 'time_delta': datetime.timedelta(days=344)}\n",
      "{'status': 'profit', 'bought_date': datetime.date(2018, 10, 26), 'bought_price': 10, 'sold_date': datetime.date(2020, 6, 12), 'sold_price': 11, 'time_delta': datetime.timedelta(days=595)}\n",
      "VLDR Anualized HPR (Holding Period Return) : 6.134453781512605\n"
     ]
    }
   ],
   "source": [
    "import pandas as pd\n",
    "from datetime import datetime\n",
    "\n",
    "# make function\n",
    "\n",
    "def determine_trade_success(history: pd.DataFrame,\n",
    "                            buying_price: int,\n",
    "                            selling_price: int):\n",
    "\n",
    "    DEFAULT_SPAC_PRICE = 10\n",
    "\n",
    "    sold_date = ''\n",
    "    bought_date = ''\n",
    "    bought_price = 0\n",
    "\n",
    "    for price in history.itertuples():\n",
    "        if bought_date == '' and sold_date == ''and price.low < buying_price:\n",
    "            bought_date = price.date\n",
    "            bought_price = buying_price\n",
    "        if sold_date == '' and price.high > selling_price:\n",
    "            sold_date = price.date\n",
    "\n",
    "    if bought_date == '':\n",
    "        return {\n",
    "            \"status\": \"no_trade\"\n",
    "        }\n",
    "    elif sold_date == '':\n",
    "        sold_date = history.date[history.shape[0] - 1]\n",
    "        return {\n",
    "            \"status\": \"no_profit\",\n",
    "            \"bought_date\": bought_date,\n",
    "            \"bought_price\": bought_price,\n",
    "            \"sold_date\": sold_date,\n",
    "            \"sold_price\": DEFAULT_SPAC_PRICE, # Ignore interest\n",
    "            \"time_delta\": sold_date - bought_date\n",
    "        }\n",
    "    else:\n",
    "        return {\n",
    "            \"status\": \"profit\",\n",
    "            \"bought_date\": bought_date,\n",
    "            \"bought_price\": bought_price,\n",
    "            \"sold_date\": sold_date,\n",
    "            \"sold_price\": selling_price,\n",
    "            \"time_delta\": sold_date - bought_date\n",
    "        }\n",
    "\n",
    "# Test function\n",
    "\n",
    "print(determine_trade_success(get_prices('OUST'), 10, 11))\n",
    "print(determine_trade_success(get_prices('BIOX'), 10, 11))\n",
    "\n",
    "vldr_result = determine_trade_success(get_prices('VLDR'), 10, 11)\n",
    "print(vldr_result)\n",
    "vldr_return = vldr_result['sold_price'] - vldr_result['bought_price'] / vldr_result['bought_price']\n",
    "vldr_days = vldr_result['time_delta'].days\n",
    "vldr_HPR = vldr_return / vldr_days * 365\n",
    "\n",
    "print(f'VLDR Anualized HPR (Holding Period Return) : {vldr_HPR}')"
   ],
   "metadata": {
    "collapsed": false,
    "pycharm": {
     "name": "#%%\n"
    }
   }
  },
  {
   "cell_type": "code",
   "execution_count": 36,
   "outputs": [
    {
     "name": "stdout",
     "output_type": "stream",
     "text": [
      "Spacs with no trade: n=7\n",
      "['GMTX', 'CLOV', 'OPEN', 'EOSE', 'ADV', 'CERE', 'DMTK']\n"
     ]
    },
    {
     "data": {
      "text/plain": "        status bought_date  bought_price   sold_date  sold_price time_delta  \\\n0       profit  2019-11-01            10  2020-12-16          11   411 days   \n1       profit  2020-06-29            10  2020-12-04          11   158 days   \n2    no_profit  2019-04-18            10  2021-03-31          10   713 days   \n3       profit  2020-10-09            10  2020-11-06          11    28 days   \n4       profit  2020-02-03            10  2020-11-18          11   289 days   \n..         ...         ...           ...         ...         ...        ...   \n100     profit  2017-05-01            10  2017-05-15          11    14 days   \n101  no_profit  2017-10-30            10  2018-08-23          10   297 days   \n102     profit  2017-07-07            10  2018-07-03          11   361 days   \n103     profit  2017-03-27            10  2017-03-31          11     4 days   \n104  no_profit  2017-05-02            10  2018-02-22          10   296 days   \n\n    ticker  \n0     ASTS  \n1     INVZ  \n2      FOA  \n3     PSFE  \n4     ARVL  \n..     ...  \n100   VRRM  \n101   FLMN  \n102    MGY  \n103   IMXI  \n104   CVON  \n\n[105 rows x 7 columns]",
      "text/html": "<div>\n<style scoped>\n    .dataframe tbody tr th:only-of-type {\n        vertical-align: middle;\n    }\n\n    .dataframe tbody tr th {\n        vertical-align: top;\n    }\n\n    .dataframe thead th {\n        text-align: right;\n    }\n</style>\n<table border=\"1\" class=\"dataframe\">\n  <thead>\n    <tr style=\"text-align: right;\">\n      <th></th>\n      <th>status</th>\n      <th>bought_date</th>\n      <th>bought_price</th>\n      <th>sold_date</th>\n      <th>sold_price</th>\n      <th>time_delta</th>\n      <th>ticker</th>\n    </tr>\n  </thead>\n  <tbody>\n    <tr>\n      <th>0</th>\n      <td>profit</td>\n      <td>2019-11-01</td>\n      <td>10</td>\n      <td>2020-12-16</td>\n      <td>11</td>\n      <td>411 days</td>\n      <td>ASTS</td>\n    </tr>\n    <tr>\n      <th>1</th>\n      <td>profit</td>\n      <td>2020-06-29</td>\n      <td>10</td>\n      <td>2020-12-04</td>\n      <td>11</td>\n      <td>158 days</td>\n      <td>INVZ</td>\n    </tr>\n    <tr>\n      <th>2</th>\n      <td>no_profit</td>\n      <td>2019-04-18</td>\n      <td>10</td>\n      <td>2021-03-31</td>\n      <td>10</td>\n      <td>713 days</td>\n      <td>FOA</td>\n    </tr>\n    <tr>\n      <th>3</th>\n      <td>profit</td>\n      <td>2020-10-09</td>\n      <td>10</td>\n      <td>2020-11-06</td>\n      <td>11</td>\n      <td>28 days</td>\n      <td>PSFE</td>\n    </tr>\n    <tr>\n      <th>4</th>\n      <td>profit</td>\n      <td>2020-02-03</td>\n      <td>10</td>\n      <td>2020-11-18</td>\n      <td>11</td>\n      <td>289 days</td>\n      <td>ARVL</td>\n    </tr>\n    <tr>\n      <th>...</th>\n      <td>...</td>\n      <td>...</td>\n      <td>...</td>\n      <td>...</td>\n      <td>...</td>\n      <td>...</td>\n      <td>...</td>\n    </tr>\n    <tr>\n      <th>100</th>\n      <td>profit</td>\n      <td>2017-05-01</td>\n      <td>10</td>\n      <td>2017-05-15</td>\n      <td>11</td>\n      <td>14 days</td>\n      <td>VRRM</td>\n    </tr>\n    <tr>\n      <th>101</th>\n      <td>no_profit</td>\n      <td>2017-10-30</td>\n      <td>10</td>\n      <td>2018-08-23</td>\n      <td>10</td>\n      <td>297 days</td>\n      <td>FLMN</td>\n    </tr>\n    <tr>\n      <th>102</th>\n      <td>profit</td>\n      <td>2017-07-07</td>\n      <td>10</td>\n      <td>2018-07-03</td>\n      <td>11</td>\n      <td>361 days</td>\n      <td>MGY</td>\n    </tr>\n    <tr>\n      <th>103</th>\n      <td>profit</td>\n      <td>2017-03-27</td>\n      <td>10</td>\n      <td>2017-03-31</td>\n      <td>11</td>\n      <td>4 days</td>\n      <td>IMXI</td>\n    </tr>\n    <tr>\n      <th>104</th>\n      <td>no_profit</td>\n      <td>2017-05-02</td>\n      <td>10</td>\n      <td>2018-02-22</td>\n      <td>10</td>\n      <td>296 days</td>\n      <td>CVON</td>\n    </tr>\n  </tbody>\n</table>\n<p>105 rows × 7 columns</p>\n</div>"
     },
     "execution_count": 36,
     "metadata": {},
     "output_type": "execute_result"
    }
   ],
   "source": [
    "# Iterate to all companies\n",
    "\n",
    "from src.CompanyImporter import import_available_company\n",
    "from src.PriceImporter import get_prices\n",
    "\n",
    "BUYING_PRICE = 10\n",
    "SELLING_PRICE = 11\n",
    "\n",
    "spacs = import_available_company()\n",
    "\n",
    "spacs_succeed_trading = []\n",
    "spacs_no_trade = []\n",
    "\n",
    "for ticker in spacs:\n",
    "    history = get_prices(ticker)\n",
    "\n",
    "    result = determine_trade_success(history, BUYING_PRICE, SELLING_PRICE)\n",
    "    if result['status'] == 'no_trade':\n",
    "        result['ticker'] = ticker\n",
    "        spacs_no_trade.append(ticker)\n",
    "    else:\n",
    "        result['ticker'] = ticker\n",
    "        spacs_succeed_trading.append(result)\n",
    "\n",
    "print(f'Spacs with no trade: n={len(spacs_no_trade)}')\n",
    "print(spacs_no_trade)\n",
    "\n",
    "df = pd.DataFrame(spacs_succeed_trading)\n",
    "df.to_csv('../data/simple_trading.csv')\n",
    "df"
   ],
   "metadata": {
    "collapsed": false,
    "pycharm": {
     "name": "#%%\n"
    }
   }
  },
  {
   "cell_type": "code",
   "execution_count": 37,
   "outputs": [
    {
     "name": "stdout",
     "output_type": "stream",
     "text": [
      "Number of case strategy success : 90\n",
      "Number of case strategy failed : 15\n",
      "Number of case not activated : 7\n"
     ]
    }
   ],
   "source": [
    "# annalyze\n",
    "\n",
    "print(f'Number of case strategy success : {df[df[\"status\"] == \"profit\"].shape[0]}')\n",
    "print(f'Number of case strategy failed : {df[df[\"status\"] == \"no_profit\"].shape[0]}')\n",
    "print(f'Number of case not activated : {len(spacs_no_trade)}')"
   ],
   "metadata": {
    "collapsed": false,
    "pycharm": {
     "name": "#%%\n"
    }
   }
  },
  {
   "cell_type": "code",
   "execution_count": 56,
   "outputs": [
    {
     "name": "stdout",
     "output_type": "stream",
     "text": [
      "104\n",
      "holding profit rate : 0.08571428571428583\n",
      "Annual holing profit rate : 0.3592274808229824\n"
     ]
    }
   ],
   "source": [
    "# Calculate mean annual return\n",
    "\n",
    "get_HPR = lambda bought, sold, days : (sold - bought) / bought\n",
    "get_annual_HPR = lambda bought, sold, days : (sold - bought) / bought / days * 365\n",
    "\n",
    "avg_ahpr = 0\n",
    "avg_hpr = 0\n",
    "sum_holding_days = 0\n",
    "sum_profit_rate = 0\n",
    "\n",
    "print(df.shape[0] - 1)\n",
    "\n",
    "for result in df.itertuples():\n",
    "    avg_ahpr += get_annual_HPR(result.bought_price, result.sold_price, result.time_delta.days) / (df.shape[0])\n",
    "    avg_hpr += get_HPR(result.bought_price, result.sold_price, result.time_delta.days) / (df.shape[0])\n",
    "\n",
    "print(f'holding profit rate : {avg_hpr}')\n",
    "print(f'Annual holing profit rate : {avg_ahpr}')"
   ],
   "metadata": {
    "collapsed": false,
    "pycharm": {
     "name": "#%%\n"
    }
   }
  },
  {
   "cell_type": "code",
   "execution_count": 51,
   "outputs": [
    {
     "data": {
      "text/plain": "(array([18., 17.,  9., 19., 14., 11., 10.,  6.,  0.,  1.]),\n array([   4. ,  112.2,  220.4,  328.6,  436.8,  545. ,  653.2,  761.4,\n         869.6,  977.8, 1086. ]),\n <BarContainer object of 10 artists>)"
     },
     "execution_count": 51,
     "metadata": {},
     "output_type": "execute_result"
    },
    {
     "data": {
      "text/plain": "<Figure size 432x288 with 1 Axes>",
      "image/png": "[encoded data removed]"
     },
     "metadata": {
      "needs_background": "light"
     },
     "output_type": "display_data"
    }
   ],
   "source": [
    "# Histogram of holding days\n",
    "\n",
    "import matplotlib.pyplot as plt\n",
    "\n",
    "days = []\n",
    "for row in df.itertuples():\n",
    "    days.append(row.time_delta.days)\n",
    "\n",
    "plt.hist(days, bins=10)"
   ],
   "metadata": {
    "collapsed": false,
    "pycharm": {
     "name": "#%%\n"
    }
   }
  },
  {
   "cell_type": "code",
   "execution_count": 34,
   "outputs": [],
   "source": [],
   "metadata": {
    "collapsed": false,
    "pycharm": {
     "name": "#%%\n"
    }
   }
  }
 ],
 "metadata": {
  "kernelspec": {
   "display_name": "Python 3",
   "language": "python",
   "name": "python3"
  },
  "language_info": {
   "codemirror_mode": {
    "name": "ipython",
    "version": 2
   },
   "file_extension": ".py",
   "mimetype": "text/x-python",
   "name": "python",
   "nbconvert_exporter": "python",
   "pygments_lexer": "ipython2",
   "version": "2.7.6"
  }
 },
 "nbformat": 4,
 "nbformat_minor": 0
}